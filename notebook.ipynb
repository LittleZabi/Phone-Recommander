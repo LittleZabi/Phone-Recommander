{
 "cells": [
  {
   "cell_type": "code",
   "execution_count": 1,
   "metadata": {},
   "outputs": [],
   "source": [
    "import pandas as pd\n",
    "import json\n",
    "import re"
   ]
  },
  {
   "cell_type": "code",
   "execution_count": 25,
   "metadata": {},
   "outputs": [],
   "source": [
    "# data = pd.read_json('./mobile_devices.json')\n",
    "data = pd.read_json('./mobile_devices.json')"
   ]
  },
  {
   "cell_type": "code",
   "execution_count": 3,
   "metadata": {},
   "outputs": [
    {
     "data": {
      "text/plain": [
       "Index(['_id', 'name', 'mobile_specs', 'createdAt', 'original', 'slug',\n",
       "       'category', 'image', 'img_uploaded', 'isActive', 'isNew', 'updatedAt',\n",
       "       'description', 'fans', 'hits', 'keywords', 'popularity', 'subtitle',\n",
       "       'brief_scrap', 'short_detail', 'views'],\n",
       "      dtype='object')"
      ]
     },
     "execution_count": 3,
     "metadata": {},
     "output_type": "execute_result"
    }
   ],
   "source": [
    "data.columns"
   ]
  },
  {
   "attachments": {},
   "cell_type": "markdown",
   "metadata": {},
   "source": [
    "Removing unnecessary features"
   ]
  },
  {
   "cell_type": "code",
   "execution_count": 4,
   "metadata": {},
   "outputs": [],
   "source": [
    "data.drop(columns=[ 'createdAt' ,'original', 'slug', 'image', 'img_uploaded', 'isActive', 'isNew', 'updatedAt', 'fans', 'hits', 'keywords', 'description', 'popularity', 'subtitle', 'views'], inplace=True)"
   ]
  },
  {
   "cell_type": "code",
   "execution_count": 5,
   "metadata": {},
   "outputs": [
    {
     "data": {
      "text/plain": [
       "[{'name': 'Network',\n",
       "  'Technology': 'GSM / CDMA / HSPA / EVDO / LTE / 5G',\n",
       "  '2G bands': 'GSM 850 / 900 / 1800 / 1900 - SIM 1 & SIM 2',\n",
       "  '3G bands': 'HSDPA 800 / 850 / 900 / 1700(AWS) / 1900 / 2100 ',\n",
       "  '4G bands': '1, 2, 3, 4, 5, 6, 7, 8, 9, 12, 17, 18, 19, 20, 26, 34, 38, 39, 40, 41',\n",
       "  '5G bands': '1, 3, 28, 38, 40, 41, 77, 78, 79, 80, 84 SA/NSA',\n",
       "  'Speed': 'HSPA 42.2/5.76 Mbps, LTE-A, 5G'},\n",
       " {'name': 'Launch',\n",
       "  'Announced': '2021, February 22',\n",
       "  'Status': 'Available. Released 2021, February 25'},\n",
       " {'name': 'Body',\n",
       "  'Dimensions': 'Unfolded: 161.8 x 145.8 x 8.2 mmFolded: 161.8 x 74.6 x 14.7 mm',\n",
       "  'Weight': '295 g (10.41 oz)',\n",
       "  'Build': 'Glass front, glass back, aluminum frame',\n",
       "  'SIM': 'Hybrid Dual SIM (Nano-SIM, dual stand-by)'},\n",
       " {'name': 'Display',\n",
       "  'Type': 'Foldable OLED, 90Hz',\n",
       "  'Size': '8.0 inches, 206.0 cm2 (~87.3% screen-to-body ratio)',\n",
       "  'Resolution': '2200 x 2480 pixels (~413 ppi density)'},\n",
       " {'name': 'Platform',\n",
       "  'OS': 'Android 10, EMUI 11, no Google Play Services',\n",
       "  'Chipset': 'Kirin 9000 5G (5 nm)',\n",
       "  'CPU': 'Octa-core (1x3.13 GHz Cortex-A77 & 3x2.54 GHz Cortex-A77 & 4x2.05 GHz Cortex-A55)',\n",
       "  'GPU': 'Mali-G78 MP24'},\n",
       " {'name': 'Memory',\n",
       "  'Card slot': 'NM (Nano Memory), up to 256GB (uses shared SIM slot)',\n",
       "  'Internal': '256GB 8GB RAM, 512GB 8GB RAM, 512GB 12GB RAM'},\n",
       " {'name': 'Main Camera',\n",
       "  'Quad': '50 MP, f/1.9, 23mm (wide), 1/1.28\", 1.22m, multi-directional PDAF, Laser AF, OIS\\n12 MP, f/2.4, 70mm (telephoto), PDAF, OIS, 3x optical zoom\\n8 MP, f/4.4, 240mm (periscope telephoto), PDAF, OIS, 10x optical zoom\\n16 MP, f/2.2, 17mm (ultrawide), AF',\n",
       "  'Features': 'Leica optics, LED flash, panorama, HDR',\n",
       "  'Video': '4K@30/60fps, 1080p@30/60fps, gyro-EIS'},\n",
       " {'name': 'Selfie camera',\n",
       "  'Single': '16 MP, f/2.2, (wide)',\n",
       "  'Features': 'HDR, panorama',\n",
       "  'Video': '1080p@30fps'},\n",
       " {'name': 'Sound',\n",
       "  'Loudspeaker ': 'Yes, with stereo speakers',\n",
       "  '3.5mm jack ': 'No'},\n",
       " {'name': 'Comms',\n",
       "  'WLAN': 'Wi-Fi 802.11 a/b/g/n/ac/6, dual-band, Wi-Fi Direct, hotspot',\n",
       "  'Bluetooth': '5.2, A2DP, LE',\n",
       "  'GPS': 'Yes, with dual-band A-GPS, GLONASS, BDS, GALILEO, QZSS, NavIC',\n",
       "  'NFC': 'Yes',\n",
       "  'Infrared port': 'Yes',\n",
       "  'Radio': 'No',\n",
       "  'USB': 'USB Type-C 3.1, USB On-The-Go'},\n",
       " {'name': 'Features',\n",
       "  'Sensors': 'Fingerprint (side-mounted), accelerometer, gyro, proximity, compass, barometer, color spectrum'},\n",
       " {'name': 'Battery',\n",
       "  'Type': 'Li-Po 4500 mAh, non-removable',\n",
       "  'Charging': 'Fast charging 55W\\nHuawei SuperCharge'},\n",
       " {'name': 'Misc',\n",
       "  'Colors': 'Black, White, Light Blue, Rose Gold, Collectors Edition Black/White/Red',\n",
       "  'Models': 'TET-AN00',\n",
       "  'Price': 'About 2300 EUR'},\n",
       " {'name': 'Tests',\n",
       "  'Performance': '\\nAnTuTu: 632818 (v8)\\nGeekBench: 14393 (v4.4), 3389 (v5.1)\\nGFXBench: 29fps (ES 3.1 onscreen)',\n",
       "  'Display': '\\nContrast ratio: Infinite (nominal)',\n",
       "  'Camera': '\\nPhoto / Video',\n",
       "  'Loudspeaker': '\\n-26.8 LUFS (Good)\\n',\n",
       "  'Battery life': '\\n\\nEndurance rating 74h\\n\\n'}]"
      ]
     },
     "execution_count": 5,
     "metadata": {},
     "output_type": "execute_result"
    }
   ],
   "source": [
    "data['mobile_specs'][11]"
   ]
  },
  {
   "attachments": {},
   "cell_type": "markdown",
   "metadata": {},
   "source": [
    "set None if mobile specs have less then 10 objects"
   ]
  },
  {
   "cell_type": "code",
   "execution_count": 6,
   "metadata": {},
   "outputs": [],
   "source": [
    "data['mobile_specs'] = data['mobile_specs'].apply(lambda x: x if len(x) > 10 else None)"
   ]
  },
  {
   "cell_type": "code",
   "execution_count": 7,
   "metadata": {},
   "outputs": [],
   "source": [
    "data.dropna(inplace=True)"
   ]
  },
  {
   "cell_type": "code",
   "execution_count": 8,
   "metadata": {},
   "outputs": [
    {
     "data": {
      "text/plain": [
       "_id             0\n",
       "name            0\n",
       "mobile_specs    0\n",
       "category        0\n",
       "brief_scrap     0\n",
       "short_detail    0\n",
       "dtype: int64"
      ]
     },
     "execution_count": 8,
     "metadata": {},
     "output_type": "execute_result"
    }
   ],
   "source": [
    "data.isna().sum()"
   ]
  },
  {
   "cell_type": "code",
   "execution_count": 9,
   "metadata": {},
   "outputs": [
    {
     "data": {
      "text/plain": [
       "(4081, 6)"
      ]
     },
     "execution_count": 9,
     "metadata": {},
     "output_type": "execute_result"
    }
   ],
   "source": [
    "data.shape"
   ]
  },
  {
   "attachments": {},
   "cell_type": "markdown",
   "metadata": {},
   "source": [
    "handling _ID"
   ]
  },
  {
   "cell_type": "code",
   "execution_count": 10,
   "metadata": {},
   "outputs": [],
   "source": [
    "data['_id'] = data['_id'].apply(lambda x: x['$oid'])"
   ]
  },
  {
   "cell_type": "code",
   "execution_count": 11,
   "metadata": {},
   "outputs": [
    {
     "data": {
      "text/plain": [
       "0       6341c19e4a92b2a60377c98a\n",
       "1       6341c1a04a92b2a60377c98c\n",
       "2       6341c1a24a92b2a60377c98e\n",
       "3       6341c1c44a92b2a60377c990\n",
       "4       6341c1d34a92b2a60377c992\n",
       "                  ...           \n",
       "4556    635fabf62203da0c176521f3\n",
       "4557    635fabfc2203da0c176521f4\n",
       "4558    635fac0c2203da0c176521f5\n",
       "4560    635fac212203da0c176521f7\n",
       "4561    635fac272203da0c176521f8\n",
       "Name: _id, Length: 4081, dtype: object"
      ]
     },
     "execution_count": 11,
     "metadata": {},
     "output_type": "execute_result"
    }
   ],
   "source": [
    "data['_id']"
   ]
  },
  {
   "attachments": {},
   "cell_type": "markdown",
   "metadata": {},
   "source": [
    "handling mobile specs"
   ]
  },
  {
   "cell_type": "code",
   "execution_count": 12,
   "metadata": {},
   "outputs": [
    {
     "name": "stdout",
     "output_type": "stream",
     "text": [
      "{'name': 'Network', 'Technology': 'GSM / HSPA / LTE', '2G bands': 'GSM 850 / 900 / 1800 / 1900 - SIM 1 & SIM 2', '3G bands': 'HSDPA 850 / 900 / 1900 / 2100 ', '4G bands': '1, 3, 5, 7, 8, 34, 38, 39, 40, 41', 'Speed': 'HSPA 42.2/5.76 Mbps, LTE-A'}\n",
      "{'name': 'Launch', 'Announced': '2019, May 28', 'Status': 'Available. Released 2019, June 01'}\n",
      "{'name': 'Body', 'Dimensions': '156.7 x 74.3 x 8.8 mm (6.17 x 2.93 x 0.35 in)', 'Weight': '191 g (6.74 oz)', 'Build': 'Glass front (Gorilla Glass 5), glass back (Gorilla Glass 5), aluminum frame', 'SIM': 'Dual SIM (Nano-SIM, dual stand-by)'}\n",
      "{'name': 'Display', 'Type': 'Super AMOLED, HDR10', 'Size': '6.39 inches, 100.2 cm2 (~86.1% screen-to-body ratio)', 'Resolution': '1080 x 2340 pixels, 19.5:9 ratio (~403 ppi density)', 'Protection': 'Corning Gorilla Glass 5'}\n",
      "{'name': 'Platform', 'OS': 'Android 9.0 (Pie), upgradable to Android 10, MIUI 12', 'Chipset': 'Qualcomm SM8150 Snapdragon 855 (7 nm)', 'CPU': 'Octa-core (1x2.84 GHz Kryo 485 & 3x2.42 GHz Kryo 485 & 4x1.78 GHz Kryo 485)', 'GPU': 'Adreno 640'}\n",
      "{'name': 'Memory', 'Card slot': 'No', 'Internal': '64GB 6GB RAM, 128GB 6GB RAM, 128GB 8GB RAM, 256GB 8GB RAM'}\n",
      "{'name': 'Main Camera', 'Triple': '48 MP, f/1.8, 26mm (wide), 1/2.0\", 0.8m, PDAF, Laser AF\\n8 MP, f/2.4, 53mm (telephoto), 1/4.0\", 1.12m, PDAF, 2x optical zoom\\n13 MP, f/2.4, 12mm (ultrawide), 1/3.1\", 1.12m', 'Features': 'Dual-LED flash, HDR, panorama', 'Video': '4K@30/60fps, 1080p@30/120/240fps, 1080p@960fps'}\n",
      "{'name': 'Selfie camera', 'Single': 'Motorized pop-up 20 MP, f/2.2, (wide), 1/3.4\", 0.8m', 'Features': 'HDR', 'Video': '1080p@30fps'}\n",
      "{'name': 'Sound', 'Loudspeaker ': 'Yes', '3.5mm jack ': 'Yes'}\n",
      "{'name': 'Comms', 'WLAN': 'Wi-Fi 802.11 a/b/g/n/ac, dual-band, Wi-Fi Direct, hotspot', 'Bluetooth': '5.0, A2DP, LE, aptX HD', 'GPS': 'Yes, with dual-band A-GPS, GLONASS, BDS, GALILEO', 'NFC': 'Yes (China only)', 'Radio': 'Yes', 'USB': 'USB Type-C 2.0, USB On-The-Go'}\n",
      "{'name': 'Features', 'Sensors': 'Fingerprint (under display, optical), accelerometer, gyro, proximity, compass'}\n",
      "{'name': 'Battery', 'Type': 'Li-Po 4000 mAh, non-removable', 'Charging': 'Fast charging 27W\\nQuick Charge 4+'}\n",
      "{'name': 'Misc', 'Colors': 'Carbon black, Flame red, Glacier blue, Summer Honey, Pearl White', 'Models': 'M1903F11I', 'SAR': '1.03 W/kg (head)   0.72 W/kg (body)   ', 'Price': 'About 400 EUR'}\n",
      "{'name': 'Tests', 'Performance': '\\nAnTuTu: 368846 (v7), 437823 (v8)\\nGeekBench: 10684 (v4.4), 2732 (v5.1)\\nGFXBench: 36fps (ES 3.1 onscreen)', 'Display': '\\nContrast ratio: Infinite (nominal)', 'Camera': '\\nPhoto / Video', 'Loudspeaker': '\\nVoice 71dB / Noise 75dB / Ring 84dB\\n', 'Audio quality': '\\nNoise -93.9dB / Crosstalk -94.2dB', 'Battery life': '\\n\\nEndurance rating 103h\\n\\n'}\n"
     ]
    }
   ],
   "source": [
    "for o in data['mobile_specs'].loc[1010]:\n",
    "    print(o)"
   ]
  },
  {
   "cell_type": "code",
   "execution_count": 13,
   "metadata": {},
   "outputs": [],
   "source": [
    "months = ['January', 'February', 'March', 'April', 'May', 'June', 'July', 'August', 'September', 'October', 'November', 'December']"
   ]
  },
  {
   "cell_type": "code",
   "execution_count": 14,
   "metadata": {},
   "outputs": [],
   "source": [
    "def handleSpecs(x):\n",
    "    specs = []\n",
    "    for o in x:\n",
    "        if o['name'] == 'Battery':\n",
    "            a = o.get('Charging')\n",
    "            if a != None:\n",
    "                specs.append(a.split(',')[0].lower().split('\\n')[0])\n",
    "            a = o.get('Type')\n",
    "            if a != None:\n",
    "                for i in a.split(','):\n",
    "                    specs.append(i.replace('mAh', '').strip().replace(' ', '').lower())\n",
    "\n",
    "        if o['name'] == 'Features':\n",
    "            a = o.get('Sensors')\n",
    "            if a != None:\n",
    "                for i in a.split(','):\n",
    "                    specs.append(i.split('(')[0].strip().replace(' ', ''))\n",
    "\n",
    "        if o['name'] == 'Comms':\n",
    "            a = o.get('USB')\n",
    "            if a != None:\n",
    "                specs.append(a.split(',')[0].replace(' ', '').split('.')[0].lower().replace('-', ''))\n",
    "            a = o.get('WLAN')\n",
    "            if a != None:\n",
    "                for i in a.split(','):\n",
    "                    f = (re.split(r'[a-z]/', i)[0]).strip().lower()\n",
    "                    f = re.sub(' |-|.11', '', f)\n",
    "                    if 'yes' in f or 'no' in f:\n",
    "                        specs.append('wifi'+f)\n",
    "                    else:\n",
    "                        specs.append(f)\n",
    "\n",
    "        if o['name'] == 'Selfie camera':\n",
    "            try:t = list(o.keys())[1]\n",
    "            except:continue\n",
    "            a = o.get(t)\n",
    "            if a != None:\n",
    "                specs.append((f'{t}-' + a.split(',')[0].replace(' ', '')).lower())\n",
    "        if o['name'] == 'Main Camera':\n",
    "            try:t = list(o.keys())[1]\n",
    "            except:continue\n",
    "            a = o.get(t)\n",
    "            if a != None:\n",
    "                specs.append((f'{t}-' + a.split(',')[0].replace(' ', '')).lower())\n",
    "        if o['name'] == 'Memory':\n",
    "            a = o.get('Internal')\n",
    "            if a != None:\n",
    "                for x in a.split(','):\n",
    "                    specs.append(x.replace('RAM', '').strip().replace(' ', '-'))\n",
    "\n",
    "        if o['name'] == 'Platform':\n",
    "            a = o.get('GPU')\n",
    "            if a != None:\n",
    "                specs.append(\"\".join(a.split(' ')[0:2]).replace('-', '').lower())\n",
    "            a = o.get('CPU')\n",
    "            if a != None:\n",
    "                specs.append(a.split(' ')[0].lower().replace('-core', ''))\n",
    "                \n",
    "            a = o.get('Chipset')\n",
    "            if a != None:\n",
    "                specs.append(\"\".join(a.split(' ')[0:2]).lower())\n",
    "            a = o.get('OS')\n",
    "            if a != None:\n",
    "                specs.append(a.split(',')[0].split('(')[0].replace(' ', '').lower())\n",
    "        if o['name'] == 'Display':\n",
    "            a = o.get('Resolution')\n",
    "            if a != None:\n",
    "                specs.append(a.split(',')[0].split('pixels')[0].replace(' ', '').lower())\n",
    "            a = o.get('Type')\n",
    "            if a != None:\n",
    "                specs.append(a.split(',')[0].replace(' ', '').lower())\n",
    "        if o['name'] == 'Body':\n",
    "            a = o.get('Build')\n",
    "            if a != None:\n",
    "                for i in a.split(','):\n",
    "                    specs.append(i.replace(' ', '').replace(')', '').replace('(', '').lower())\n",
    "\n",
    "        if o['name'] == 'Network':\n",
    "            a = o['Technology']\n",
    "            specs.append(a.replace('/', '').replace(' ', '').lower())\n",
    "\n",
    "        if o['name'] == 'Launch':\n",
    "            a = o['Announced']\n",
    "            if 'not' in a.lower():\n",
    "                continue\n",
    "            else:\n",
    "                year = a.split(',')[0]\n",
    "                month = ''\n",
    "                for mo in months:\n",
    "                    if mo in o['Announced']:\n",
    "                        month = mo\n",
    "                        break\n",
    "                specs.append((year+month).lower())\n",
    "    return specs "
   ]
  },
  {
   "cell_type": "code",
   "execution_count": 15,
   "metadata": {},
   "outputs": [],
   "source": [
    "data['specs'] = data['mobile_specs'].apply(handleSpecs)"
   ]
  },
  {
   "cell_type": "code",
   "execution_count": 16,
   "metadata": {},
   "outputs": [],
   "source": [
    "data.drop(columns=['mobile_specs'], inplace=True)"
   ]
  },
  {
   "cell_type": "code",
   "execution_count": 17,
   "metadata": {},
   "outputs": [],
   "source": [
    "data['displaySize'] = data['brief_scrap'].apply(lambda x: x['displaySize'])"
   ]
  },
  {
   "cell_type": "code",
   "execution_count": 18,
   "metadata": {},
   "outputs": [],
   "source": [
    "data.drop(columns=['brief_scrap'], inplace=True)"
   ]
  },
  {
   "cell_type": "code",
   "execution_count": 19,
   "metadata": {},
   "outputs": [],
   "source": [
    "data.drop(columns=['short_detail'], inplace=True)"
   ]
  },
  {
   "cell_type": "code",
   "execution_count": 20,
   "metadata": {},
   "outputs": [],
   "source": [
    "data['tags'] = data['specs'].apply(lambda x: \" \".join(x))"
   ]
  },
  {
   "cell_type": "code",
   "execution_count": 21,
   "metadata": {},
   "outputs": [],
   "source": [
    "data['tags'] = data['tags'] + \" \" + data['category']"
   ]
  },
  {
   "cell_type": "code",
   "execution_count": 22,
   "metadata": {},
   "outputs": [
    {
     "data": {
      "text/plain": [
       "'gsmhspalte 2021january glassfront plasticback plasticframe 720x1600 plslcd powervrge8100 quad mediatekmt6739w android10 32GB-2GB 32GB-3GB 32GB-4GB 64GB-3GB dual-13mp single-5mp microusb2 wifi802 wifidirect hotspot Accelerometer li-po5000 non-removable samsung'"
      ]
     },
     "execution_count": 22,
     "metadata": {},
     "output_type": "execute_result"
    }
   ],
   "source": [
    "data['tags'][0]"
   ]
  },
  {
   "cell_type": "code",
   "execution_count": 23,
   "metadata": {},
   "outputs": [],
   "source": [
    "data['displaySize'] = data['displaySize'].astype('string')"
   ]
  },
  {
   "cell_type": "code",
   "execution_count": 24,
   "metadata": {},
   "outputs": [],
   "source": [
    "data['tags'] = data['tags'] + \" \" + data['displaySize']"
   ]
  },
  {
   "cell_type": "code",
   "execution_count": 25,
   "metadata": {},
   "outputs": [
    {
     "data": {
      "text/plain": [
       "'gsmhspalte 2021january glassfront plasticback plasticframe 720x1600 plslcd powervrge8100 quad mediatekmt6739w android10 32GB-2GB 32GB-3GB 32GB-4GB 64GB-3GB dual-13mp single-5mp microusb2 wifi802 wifidirect hotspot Accelerometer li-po5000 non-removable samsung 6.5'"
      ]
     },
     "execution_count": 25,
     "metadata": {},
     "output_type": "execute_result"
    }
   ],
   "source": [
    "data['tags'][0]"
   ]
  },
  {
   "cell_type": "code",
   "execution_count": 26,
   "metadata": {},
   "outputs": [],
   "source": [
    "data.drop(columns=['category', 'specs', 'displaySize'], inplace=True)"
   ]
  },
  {
   "cell_type": "code",
   "execution_count": 27,
   "metadata": {},
   "outputs": [],
   "source": [
    "data['tags'] = data['tags'] + \" \" + data['name'].str.lower()"
   ]
  },
  {
   "attachments": {},
   "cell_type": "markdown",
   "metadata": {},
   "source": [
    "stem the text to reduce"
   ]
  },
  {
   "cell_type": "code",
   "execution_count": 28,
   "metadata": {},
   "outputs": [],
   "source": [
    "from nltk.stem.porter import PorterStemmer\n",
    "ps = PorterStemmer()"
   ]
  },
  {
   "cell_type": "code",
   "execution_count": 29,
   "metadata": {},
   "outputs": [],
   "source": [
    "def stem(x):\n",
    "    f = []\n",
    "    for i in x.split():\n",
    "        f.append(ps.stem(i))\n",
    "    return \" \".join(f)"
   ]
  },
  {
   "cell_type": "code",
   "execution_count": 30,
   "metadata": {},
   "outputs": [],
   "source": [
    "data['tags'] = data['tags'].apply(stem)"
   ]
  },
  {
   "attachments": {},
   "cell_type": "markdown",
   "metadata": {},
   "source": [
    "text vectrization"
   ]
  },
  {
   "cell_type": "code",
   "execution_count": 31,
   "metadata": {},
   "outputs": [],
   "source": [
    "from sklearn.feature_extraction.text import CountVectorizer\n",
    "cv = CountVectorizer(max_features=4000, stop_words='english')"
   ]
  },
  {
   "cell_type": "code",
   "execution_count": 32,
   "metadata": {},
   "outputs": [],
   "source": [
    "vectors = cv.fit_transform(data['tags']).toarray()"
   ]
  },
  {
   "cell_type": "code",
   "execution_count": 33,
   "metadata": {},
   "outputs": [
    {
     "data": {
      "text/plain": [
       "(4081, 3987)"
      ]
     },
     "execution_count": 33,
     "metadata": {},
     "output_type": "execute_result"
    }
   ],
   "source": [
    "vectors.shape"
   ]
  },
  {
   "attachments": {},
   "cell_type": "markdown",
   "metadata": {},
   "source": [
    "cosine similarity"
   ]
  },
  {
   "cell_type": "code",
   "execution_count": 34,
   "metadata": {},
   "outputs": [],
   "source": [
    "from sklearn.metrics.pairwise import cosine_similarity\n",
    "similairty = cosine_similarity(vectors)"
   ]
  },
  {
   "cell_type": "code",
   "execution_count": 35,
   "metadata": {},
   "outputs": [
    {
     "data": {
      "text/plain": [
       "(4081, 4081)"
      ]
     },
     "execution_count": 35,
     "metadata": {},
     "output_type": "execute_result"
    }
   ],
   "source": [
    "similairty.shape"
   ]
  },
  {
   "cell_type": "code",
   "execution_count": 36,
   "metadata": {},
   "outputs": [
    {
     "data": {
      "text/plain": [
       "array([0.24733156, 1.        , 0.43954766, ..., 0.17609018, 0.37649664,\n",
       "       0.26958193])"
      ]
     },
     "execution_count": 36,
     "metadata": {},
     "output_type": "execute_result"
    }
   ],
   "source": [
    "similairty[1]"
   ]
  },
  {
   "cell_type": "code",
   "execution_count": 37,
   "metadata": {},
   "outputs": [],
   "source": [
    "# data.iloc[0:10]"
   ]
  },
  {
   "cell_type": "code",
   "execution_count": 38,
   "metadata": {},
   "outputs": [],
   "source": [
    "def recommendMe(phone):\n",
    "    phone_index = data[data['name'].str.lower() == phone.lower()].index[0]\n",
    "    distances = similairty[phone_index]\n",
    "    phone_list = sorted(list(enumerate(distances)), reverse=True, key=lambda x: x[1])[1:21]\n",
    "    for x in phone_list:\n",
    "        print(data.iloc[x[0]]['name'])\n",
    "    "
   ]
  },
  {
   "cell_type": "code",
   "execution_count": 39,
   "metadata": {},
   "outputs": [
    {
     "name": "stdout",
     "output_type": "stream",
     "text": [
      "Samsung Galaxy A02s\n",
      "Samsung Galaxy M02s\n",
      "Samsung Galaxy M01\n",
      "Samsung Galaxy A10s\n",
      "Samsung Galaxy A11\n",
      "Samsung Galaxy A21s\n",
      "Samsung Galaxy J4\n",
      "Samsung Galaxy A12\n",
      "Samsung Galaxy M10\n",
      "Samsung Galaxy A10\n",
      "Samsung Galaxy J6\n",
      "Samsung Galaxy A01\n",
      "Infinix Hot 9\n",
      "Samsung Galaxy J4+\n",
      "Samsung Galaxy J6+\n",
      "Realme C3\n",
      "Samsung Galaxy Tab A 8.0 (2019)\n",
      "Samsung Galaxy M01 Core\n",
      "Samsung Galaxy M01s\n",
      "Samsung Galaxy On6\n",
      "None\n",
      "Xiaomi Mi 10 5G\n",
      "Xiaomi Mi 10 Ultra\n",
      "Xiaomi Mi 9 Pro 5G\n",
      "Xiaomi Mi 10T Pro 5G\n",
      "Xiaomi Redmi K30 Pro Zoom\n",
      "Xiaomi Mi 9 Pro\n",
      "Xiaomi Black Shark 3 Pro\n",
      "Xiaomi Poco F2 Pro\n",
      "Xiaomi Redmi K30 Pro\n",
      "Xiaomi Black Shark 3S\n",
      "Xiaomi Mi 9 Explorer\n",
      "Xiaomi Black Shark 3\n",
      "Realme X50 Pro 5G\n",
      "ZTE Axon 10s Pro 5G\n",
      "Xiaomi Mi Note 10 Pro\n",
      "Xiaomi Mi 10T 5G\n",
      "Xiaomi Redmi K30S\n",
      "vivo NEX 3S 5G\n",
      "Meizu 17 Pro\n",
      "Xiaomi Mi 11\n",
      "None\n",
      "Sony Xperia 1 II\n",
      "Sony Xperia 5 II\n",
      "Sony Xperia 5 Plus\n",
      "Sony Xperia 5\n",
      "Sony Xperia 1\n",
      "Sony Xperia 10 III\n",
      "Sony Xperia 10 II\n",
      "Oppo Find X2 Pro\n",
      "Sony Xperia XZ1 Compact\n",
      "Sony Xperia L4\n",
      "Sony Xperia H8541\n",
      "Sony Xperia XZ2 Compact\n",
      "Sony Xperia XZ1\n",
      "Sony Xperia X Compact\n",
      "Sony Xperia XZ3\n",
      "Sony Xperia XZ Premium\n",
      "Samsung Galaxy Z Fold2 5G\n",
      "Sony Xperia XZ2 Premium\n",
      "Motorola Edge+ (2020)\n",
      "Sony Xperia L3\n",
      "None\n",
      "ZTE Blade V2020 5G\n",
      "ZTE Axon 11 SE 5G\n",
      "TCL 10 5G\n",
      "ZTE Blade 20 Pro 5G\n",
      "ZTE Axon 11 5G\n",
      "Motorola One 5G\n",
      "TCL 10 5G UW\n",
      "ZTE nubia Red Magic 5G Lite\n",
      "ZTE Blade 20 5G\n",
      "Motorola One 5G UW\n",
      "Motorola Moto G 5G Plus\n",
      "ZTE Axon 11 4G\n",
      "ZTE Axon 10s Pro 5G\n",
      "ZTE nubia Play\n",
      "ZTE Blade 20\n",
      "vivo Z6 5G\n",
      "ZTE Blade 10 Prime\n",
      "HTC Desire 21 Pro 5G\n",
      "LG Q92 5G\n",
      "Motorola Moto G 5G\n",
      "None\n",
      "Nokia 1.3\n",
      "Nokia 2.4\n",
      "Nokia C3\n",
      "Nokia 3.2\n",
      "Nokia 2.3\n",
      "Nokia C5 Endi\n",
      "Nokia C2 Tennen\n",
      "Nokia C2 Tava\n",
      "Nokia 2 V Tella\n",
      "Nokia C1 Plus\n",
      "Nokia 2.2\n",
      "Nokia 4.2\n",
      "LG K22\n",
      "Infinix Smart 4\n",
      "Nokia 1 Plus\n",
      "Nokia 3 V\n",
      "Nokia 5.3\n",
      "Tecno Spark 4 Lite\n",
      "Tecno Spark 4\n",
      "Nokia C2\n",
      "None\n",
      "Infinix Hot 9 Play\n",
      "Infinix Hot 9\n",
      "Infinix Hot 9 Pro\n",
      "Infinix Hot 8\n",
      "Infinix Hot 10 Lite\n",
      "Infinix Hot 10\n",
      "Infinix Hot 7\n",
      "Infinix Hot 7 Pro\n",
      "Infinix Smart HD 2021\n",
      "Infinix Hot 8 Lite\n",
      "Infinix S4\n",
      "Infinix S5 Pro\n",
      "Tecno Pouvoir 4\n",
      "Infinix Smart3 Plus\n",
      "Infinix S5 Pro (16+32)\n",
      "Infinix S5 Pro (48+40)\n",
      "vivo Y12s\n",
      "Infinix Smart 5\n",
      "Infinix Note 7 Lite\n",
      "Honor Play 9A\n",
      "None\n"
     ]
    }
   ],
   "source": [
    "print(recommendMe('Samsung Galaxy A02'))\n",
    "print(recommendMe('Realme C3'))\n",
    "print(recommendMe('Sony Xperia Pro'))\n",
    "print(recommendMe('ZTE Blade X1 5G'))\n",
    "print(recommendMe('Nokia 1.4'))\n",
    "print(recommendMe('Infinix Hot 10 Play'))"
   ]
  }
 ],
 "metadata": {
  "kernelspec": {
   "display_name": "Python 3",
   "language": "python",
   "name": "python3"
  },
  "language_info": {
   "codemirror_mode": {
    "name": "ipython",
    "version": 3
   },
   "file_extension": ".py",
   "mimetype": "text/x-python",
   "name": "python",
   "nbconvert_exporter": "python",
   "pygments_lexer": "ipython3",
   "version": "3.11.3"
  },
  "orig_nbformat": 4
 },
 "nbformat": 4,
 "nbformat_minor": 2
}
